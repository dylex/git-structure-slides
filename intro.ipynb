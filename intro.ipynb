{
 "cells": [
  {
   "cell_type": "markdown",
   "metadata": {
    "slideshow": {
     "slide_type": "slide"
    }
   },
   "source": [
    "<div align='center'>\n",
    "<h1>The Structure of Git</h1>\n",
    "<h3>Dylan Simon, Flatiron Institute</h3>\n",
    "</div>"
   ]
  },
  {
   "cell_type": "markdown",
   "metadata": {
    "slideshow": {
     "slide_type": "slide"
    }
   },
   "source": [
    "## git repository environment\n",
    "\n",
    "Create a new repository in any existing directory"
   ]
  },
  {
   "cell_type": "code",
   "execution_count": 1,
   "metadata": {
    "collapsed": true,
    "slideshow": {
     "slide_type": "skip"
    }
   },
   "outputs": [],
   "source": [
    "# Initial setup\n",
    "\n",
    "GIT=`which git`\n",
    "declare -A git_helped\n",
    "git() {\n",
    "    if [[ -z ${git_helped[$1]} ]] ; then\n",
    "        whatis -l \"git-$1\" >&2\n",
    "        git_helped[$1]=1\n",
    "    fi\n",
    "    $GIT \"$@\"\n",
    "}\n",
    "\n",
    "rm -rf ~/myrepo"
   ]
  },
  {
   "cell_type": "code",
   "execution_count": 2,
   "metadata": {
    "slideshow": {
     "slide_type": "-"
    }
   },
   "outputs": [
    {
     "name": "stdout",
     "output_type": "stream",
     "text": [
      "git-init (1)         - Create an empty Git repository or reinitialize an existing one\n",
      "Initialized empty Git repository in /mnt/xfs1/home/dylan/myrepo/.git/\n"
     ]
    }
   ],
   "source": [
    "mkdir -p ~/myrepo\n",
    "cd ~/myrepo\n",
    "git init"
   ]
  },
  {
   "cell_type": "code",
   "execution_count": 3,
   "metadata": {
    "slideshow": {
     "slide_type": "fragment"
    }
   },
   "outputs": [
    {
     "name": "stdout",
     "output_type": "stream",
     "text": [
      "\u001b[0m\u001b[00mHEAD\u001b[0m  \u001b[07mbranches\u001b[0m  \u001b[00mconfig\u001b[0m  \u001b[00mdescription\u001b[0m  \u001b[07mhooks\u001b[0m  \u001b[07minfo\u001b[0m  \u001b[07mobjects\u001b[0m  \u001b[07mrefs\u001b[0m\n"
     ]
    }
   ],
   "source": [
    "ls .git"
   ]
  },
  {
   "cell_type": "code",
   "execution_count": 4,
   "metadata": {
    "slideshow": {
     "slide_type": "subslide"
    }
   },
   "outputs": [
    {
     "name": "stdout",
     "output_type": "stream",
     "text": [
      "usage: git init [-q | --quiet] [--bare] [--template=<template-directory>] [--shared[=<permissions>]] [directory]\n",
      "\n",
      "    --template <template-directory>\n",
      "                          directory from which templates will be used\n",
      "    --bare                create a bare repository\n",
      "    --shared[=<permissions>]\n",
      "                          specify that the git repository is to be shared amongst several users\n",
      "    -q, --quiet           be quiet\n",
      "    --separate-git-dir <gitdir>\n",
      "                          separate git dir from working tree\n",
      "\n",
      "GIT-INIT(1)                       Git Manual                       GIT-INIT(1)\n",
      "\n",
      "\n",
      "\n",
      "NAME\n",
      "       git-init - Create an empty Git repository or reinitialize an existing\n",
      "       one\n",
      "\n",
      "SYNOPSIS\n",
      "       git init [-q | --quiet] [--bare] [--template=<template_directory>]\n",
      "                 [--separate-git-dir <git dir>]\n",
      "                 [--shared[=<permissions>]] [directory]\n",
      "\n",
      "\n",
      "DESCRIPTION\n",
      "       This command creates an empty Git repository - basically a .git\n",
      "       directory with subdirectories for objects, refs/heads, refs/tags, and\n",
      "       template files. An initial HEAD file that references the HEAD of the\n",
      "       master branch is also created.\n",
      "\n",
      "       If the $GIT_DIR environment variable is set then it specifies a path to\n",
      "       use instead of ./.git for the base of the repository.\n",
      "\n",
      "       If the object storage directory is specified via the\n",
      "       $GIT_OBJECT_DIRECTORY environment variable then the sha1 directories\n",
      "       are created underneath - otherwise the default $GIT_DIR/objects\n",
      "       directory is used.\n",
      "\n",
      "       Running git init in an existing repository is safe. It will not\n",
      "       overwrite things that are already there. The primary reason for\n",
      "       rerunning git init is to pick up newly added templates (or to move the\n",
      "       repository to another place if --separate-git-dir is given).\n",
      "\n",
      "OPTIONS\n",
      "       -q, --quiet\n",
      "           Only print error and warning messages, all other output will be\n",
      "           suppressed.\n",
      "\n",
      "       --bare\n",
      "           Create a bare repository. If GIT_DIR environment is not set, it is\n",
      "           set to the current working directory.\n",
      "\n",
      "       --template=<template_directory>\n",
      "           Specify the directory from which templates will be used. (See the\n",
      "           \"TEMPLATE DIRECTORY\" section below.)\n",
      "\n",
      "       --separate-git-dir=<git dir>\n",
      "           Instead of initializing the repository where it is supposed to be,\n",
      "           place a filesytem-agnostic Git symbolic link there, pointing to the\n",
      "           specified path, and initialize a Git repository at the path. The\n",
      "           result is Git repository can be separated from working tree. If\n",
      "           this is reinitialization, the repository will be moved to the\n",
      "           specified path.\n",
      "\n",
      "       --shared[=(false|true|umask|group|all|world|everybody|0xxx)]\n",
      "           Specify that the Git repository is to be shared amongst several\n",
      "           users. This allows users belonging to the same group to push into\n",
      "           that repository. When specified, the config variable\n",
      "           \"core.sharedRepository\" is set so that files and directories under\n",
      "           $GIT_DIR are created with the requested permissions. When not\n",
      "           specified, Git will use permissions reported by umask(2).\n",
      "\n",
      "       The option can have the following values, defaulting to group if no\n",
      "       value is given:\n",
      "\n",
      "       ·   umask (or false): Use permissions reported by umask(2). The\n",
      "           default, when --shared is not specified.\n",
      "\n",
      "       ·   group (or true): Make the repository group-writable, (and g+sx,\n",
      "           since the git group may be not the primary group of all users).\n",
      "           This is used to loosen the permissions of an otherwise safe\n",
      "           umask(2) value. Note that the umask still applies to the other\n",
      "           permission bits (e.g. if umask is 0022, using group will not remove\n",
      "           read privileges from other (non-group) users). See 0xxx for how to\n",
      "           exactly specify the repository permissions.\n",
      "\n",
      "       ·   all (or world or everybody): Same as group, but make the repository\n",
      "           readable by all users.\n",
      "\n",
      "       ·   0xxx: 0xxx is an octal number and each file will have mode 0xxx.\n",
      "           0xxx will override users' umask(2) value (and not only loosen\n",
      "           permissions as group and all does).  0640 will create a repository\n",
      "           which is group-readable, but not group-writable or accessible to\n",
      "           others.  0660 will create a repo that is readable and writable to\n",
      "           the current user and group, but inaccessible to others.\n",
      "\n",
      "       By default, the configuration flag receive.denyNonFastForwards is\n",
      "       enabled in shared repositories, so that you cannot force a non\n",
      "       fast-forwarding push into it.\n",
      "\n",
      "       If you name a (possibly non-existent) directory at the end of the\n",
      "       command line, the command is run inside the directory (possibly after\n",
      "       creating it).\n",
      "\n",
      "TEMPLATE DIRECTORY\n",
      "       The template directory contains files and directories that will be\n",
      "       copied to the $GIT_DIR after it is created.\n",
      "\n",
      "       The template directory used will (in order):\n",
      "\n",
      "       ·   The argument given with the --template option.\n",
      "\n",
      "       ·   The contents of the $GIT_TEMPLATE_DIR environment variable.\n",
      "\n",
      "       ·   The init.templatedir configuration variable.\n",
      "\n",
      "       ·   The default template directory: /usr/share/git-core/templates.\n",
      "\n",
      "       The default template directory includes some directory structure, some\n",
      "       suggested \"exclude patterns\", and copies of sample \"hook\" files. The\n",
      "       suggested patterns and hook files are all modifiable and extensible.\n",
      "\n",
      "EXAMPLES\n",
      "       Start a new Git repository for an existing code base\n",
      "\n",
      "               $ cd /path/to/my/codebase\n",
      "               $ git init      (1)\n",
      "               $ git add .     (2)\n",
      "\n",
      "           1. prepare /path/to/my/codebase/.git directory\n",
      "           2. add all existing file to the index\n",
      "\n",
      "GIT\n",
      "       Part of the git(1) suite\n",
      "\n",
      "\n",
      "\n",
      "Git 1.8.3.1                       03/23/2016                       GIT-INIT(1)\n"
     ]
    }
   ],
   "source": [
    "git init -h\n",
    "git init --help"
   ]
  },
  {
   "cell_type": "code",
   "execution_count": 5,
   "metadata": {
    "slideshow": {
     "slide_type": "subslide"
    }
   },
   "outputs": [
    {
     "name": "stdout",
     "output_type": "stream",
     "text": [
      "[core]\n",
      "\trepositoryformatversion = 0\n",
      "\tfilemode = true\n",
      "\tbare = false\n",
      "\tlogallrefupdates = true\n"
     ]
    }
   ],
   "source": [
    "cat .git/config"
   ]
  },
  {
   "cell_type": "code",
   "execution_count": 6,
   "metadata": {
    "scrolled": true,
    "slideshow": {
     "slide_type": "fragment"
    }
   },
   "outputs": [
    {
     "name": "stdout",
     "output_type": "stream",
     "text": [
      "git-config (1)       - Get and set repository or global options\n",
      "core.repositoryformatversion=0\n",
      "core.filemode=true\n",
      "core.bare=false\n",
      "core.logallrefupdates=true\n"
     ]
    }
   ],
   "source": [
    "git config --local -l"
   ]
  },
  {
   "cell_type": "markdown",
   "metadata": {
    "slideshow": {
     "slide_type": "slide"
    }
   },
   "source": [
    "## git as an object (file) store"
   ]
  },
  {
   "cell_type": "markdown",
   "metadata": {},
   "source": [
    "Create a new object based on some data (e.g., file contents)"
   ]
  },
  {
   "cell_type": "code",
   "execution_count": 7,
   "metadata": {
    "slideshow": {
     "slide_type": "-"
    }
   },
   "outputs": [
    {
     "name": "stdout",
     "output_type": "stream",
     "text": [
      "git-hash-object (1)  - Compute object ID and optionally creates a blob from a file\n",
      "980a0d5f19a64b4b30a87d4206aade58726b60e3\n"
     ]
    }
   ],
   "source": [
    "echo 'Hello World!' > f\n",
    "git hash-object -t blob -w f\n",
    "rm f"
   ]
  },
  {
   "cell_type": "markdown",
   "metadata": {},
   "source": [
    "Unique identifier for this data: each distinct file gets its own *hash*"
   ]
  },
  {
   "cell_type": "code",
   "execution_count": 8,
   "metadata": {
    "slideshow": {
     "slide_type": "fragment"
    }
   },
   "outputs": [
    {
     "name": "stdout",
     "output_type": "stream",
     "text": [
      "980a0d5f19a64b4b30a87d4206aade58726b60e3  -\n"
     ]
    }
   ],
   "source": [
    "echo -e 'blob 13\\0Hello World!' | sha1sum"
   ]
  },
  {
   "cell_type": "code",
   "execution_count": 9,
   "metadata": {
    "slideshow": {
     "slide_type": "subslide"
    }
   },
   "outputs": [
    {
     "name": "stdout",
     "output_type": "stream",
     "text": [
      "git-cat-file (1)     - Provide content or type and size information for repository objects\n",
      "blob\n",
      "13\n",
      "Hello World!\n"
     ]
    }
   ],
   "source": [
    "git cat-file -t 980a0d5f19a64b4b30a87d4206aade58726b60e3 # object type\n",
    "git cat-file -s 980a # any unique prefix of hash         # object size\n",
    "git cat-file -p 980a0d5                                  # contents\n",
    "file1=980a0d5f19a64b4b30a87d4206aade58726b60e3 # save for later"
   ]
  },
  {
   "cell_type": "code",
   "execution_count": 10,
   "metadata": {
    "slideshow": {
     "slide_type": "subslide"
    }
   },
   "outputs": [
    {
     "name": "stdout",
     "output_type": "stream",
     "text": [
      "1a0985327d433bdfc3ea3c2b0a0443b3545064ac\n"
     ]
    }
   ],
   "source": [
    "file2=$( echo 'Something completely different.' \\\n",
    "         | git hash-object -t blob -w --stdin )\n",
    "echo $file2"
   ]
  },
  {
   "cell_type": "code",
   "execution_count": 11,
   "metadata": {},
   "outputs": [
    {
     "name": "stdout",
     "output_type": "stream",
     "text": [
      "Something completely different.\n"
     ]
    }
   ],
   "source": [
    "git cat-file -p $file2"
   ]
  },
  {
   "cell_type": "markdown",
   "metadata": {
    "slideshow": {
     "slide_type": "fragment"
    }
   },
   "source": [
    "### Where'd the data go?"
   ]
  },
  {
   "cell_type": "code",
   "execution_count": 12,
   "metadata": {},
   "outputs": [
    {
     "name": "stdout",
     "output_type": "stream",
     "text": [
      ".git/objects/98/0a0d5f19a64b4b30a87d4206aade58726b60e3\n",
      ".git/objects/1a/0985327d433bdfc3ea3c2b0a0443b3545064ac\n"
     ]
    }
   ],
   "source": [
    "find .git/objects -type f"
   ]
  },
  {
   "cell_type": "markdown",
   "metadata": {
    "slideshow": {
     "slide_type": "slide"
    }
   },
   "source": [
    "## Collecting objects: trees (directories)"
   ]
  },
  {
   "cell_type": "code",
   "execution_count": 13,
   "metadata": {
    "slideshow": {
     "slide_type": "-"
    }
   },
   "outputs": [
    {
     "name": "stdout",
     "output_type": "stream",
     "text": [
      "git-mktree (1)       - Build a tree-object from ls-tree formatted text\n",
      "011ed906a8c5b0c0c14c0cad0a69d3969251b71f\n"
     ]
    }
   ],
   "source": [
    "( echo -e \"100644 blob $file1\\\\thello.txt\" \\\n",
    "; echo -e \"100644 blob $file2\\\\tother.txt\" \\\n",
    ") | git mktree"
   ]
  },
  {
   "cell_type": "markdown",
   "metadata": {},
   "source": [
    "A directory with two files, references to their contents by hash"
   ]
  },
  {
   "cell_type": "code",
   "execution_count": 14,
   "metadata": {},
   "outputs": [
    {
     "name": "stdout",
     "output_type": "stream",
     "text": [
      "tree\n",
      "100644 blob 980a0d5f19a64b4b30a87d4206aade58726b60e3\thello.txt\n",
      "100644 blob 1a0985327d433bdfc3ea3c2b0a0443b3545064ac\tother.txt\n"
     ]
    }
   ],
   "source": [
    "tree1=011ed906a8c5b0c0c14c0cad0a69d3969251b71f\n",
    "git cat-file -t $tree1\n",
    "git cat-file -p $tree1"
   ]
  },
  {
   "cell_type": "code",
   "execution_count": 15,
   "metadata": {
    "slideshow": {
     "slide_type": "subslide"
    }
   },
   "outputs": [
    {
     "name": "stdout",
     "output_type": "stream",
     "text": [
      "git-mktree (1)       - Build a tree-object from ls-tree formatted text\n",
      "c3595f6745f977f2450eeeb5bd94ccd2e4fba498\n"
     ]
    }
   ],
   "source": [
    "( echo -e \"100644 blob $file1\\\\tREADME\" \\\n",
    "; echo -e \"040000 tree $tree1\\\\tstuff\" \\\n",
    ") | git mktree"
   ]
  },
  {
   "cell_type": "markdown",
   "metadata": {},
   "source": [
    "Another directory, containing the first directory, nested"
   ]
  },
  {
   "cell_type": "code",
   "execution_count": 16,
   "metadata": {},
   "outputs": [
    {
     "name": "stdout",
     "output_type": "stream",
     "text": [
      "100644 blob 980a0d5f19a64b4b30a87d4206aade58726b60e3\tREADME\n",
      "040000 tree 011ed906a8c5b0c0c14c0cad0a69d3969251b71f\tstuff\n"
     ]
    }
   ],
   "source": [
    "tree2=c3595f6745f977f2450eeeb5bd94ccd2e4fba498\n",
    "git cat-file -p $tree2"
   ]
  },
  {
   "cell_type": "code",
   "execution_count": 17,
   "metadata": {
    "slideshow": {
     "slide_type": "fragment"
    }
   },
   "outputs": [
    {
     "name": "stdout",
     "output_type": "stream",
     "text": [
      "git-ls-tree (1)      - List the contents of a tree object\n",
      "100644 blob 980a0d5f19a64b4b30a87d4206aade58726b60e3\tREADME\n",
      "040000 tree 011ed906a8c5b0c0c14c0cad0a69d3969251b71f\tstuff\n",
      "100644 blob 980a0d5f19a64b4b30a87d4206aade58726b60e3\tstuff/hello.txt\n",
      "100644 blob 1a0985327d433bdfc3ea3c2b0a0443b3545064ac\tstuff/other.txt\n"
     ]
    }
   ],
   "source": [
    "git ls-tree -tr $tree2"
   ]
  },
  {
   "cell_type": "markdown",
   "metadata": {
    "slideshow": {
     "slide_type": "slide"
    }
   },
   "source": [
    "## A *tree* is \"snapshot\" of a directory\n",
    "\n",
    "Just as a *blob* is a snapshot of a file"
   ]
  },
  {
   "cell_type": "code",
   "execution_count": 18,
   "metadata": {},
   "outputs": [
    {
     "name": "stdout",
     "output_type": "stream",
     "text": [
      "git-mktree (1)       - Build a tree-object from ls-tree formatted text\n",
      "674e727fabfeb840b5c4e36f2c33610dfb50458e\n",
      "100644 blob f25e220dd7c5d3082f9754786f7fd6fcae6db473\tREADME\n",
      "040000 tree 011ed906a8c5b0c0c14c0cad0a69d3969251b71f\tstuff\n",
      "100644 blob 980a0d5f19a64b4b30a87d4206aade58726b60e3\tstuff/hello.txt\n",
      "100644 blob 1a0985327d433bdfc3ea3c2b0a0443b3545064ac\tstuff/other.txt\n"
     ]
    }
   ],
   "source": [
    "file3=$( echo 'New and improved.' \\\n",
    "         | git hash-object -t blob -w --stdin )\n",
    "tree2a=$( ( echo -e \"100644 blob $file3\\\\tREADME\" \\\n",
    "          ; echo -e \"040000 tree $tree1\\\\tstuff\" \\\n",
    "          ) | git mktree )\n",
    "echo $tree2a\n",
    "git ls-tree -tr $tree2a"
   ]
  },
  {
   "cell_type": "markdown",
   "metadata": {
    "slideshow": {
     "slide_type": "subslide"
    }
   },
   "source": [
    "### Comparing trees\n",
    "Comparing snapshots is what git's for"
   ]
  },
  {
   "cell_type": "code",
   "execution_count": 19,
   "metadata": {},
   "outputs": [
    {
     "name": "stdout",
     "output_type": "stream",
     "text": [
      "git-diff-tree (1)    - Compares the content and mode of blobs found via two tree objects\n",
      "diff --git a/README b/README\n",
      "index 980a0d5..f25e220 100644\n",
      "--- a/README\n",
      "+++ b/README\n",
      "@@ -1 +1 @@\n",
      "-Hello World!\n",
      "+New and improved.\n"
     ]
    }
   ],
   "source": [
    "git diff-tree -p $tree2 $tree2a"
   ]
  },
  {
   "cell_type": "markdown",
   "metadata": {
    "slideshow": {
     "slide_type": "slide"
    }
   },
   "source": [
    "## *index*: \"cache\" between filesystem and trees"
   ]
  },
  {
   "cell_type": "code",
   "execution_count": 20,
   "metadata": {},
   "outputs": [
    {
     "name": "stdout",
     "output_type": "stream",
     "text": [
      "git-read-tree (1)    - Reads tree information into the index\n",
      "git-ls-files (1)     - Show information about files in the index and the working tree\n",
      "README\n",
      "stuff/hello.txt\n",
      "stuff/other.txt\n"
     ]
    }
   ],
   "source": [
    "git read-tree $tree2\n",
    "git ls-files"
   ]
  },
  {
   "cell_type": "code",
   "execution_count": 21,
   "metadata": {
    "slideshow": {
     "slide_type": "fragment"
    }
   },
   "outputs": [
    {
     "name": "stdout",
     "output_type": "stream",
     "text": [
      "git-checkout-index (1) - Copy files from the index to the working tree\n",
      ".:\n",
      "total 4\n",
      "-rw-r--r-- 1 dylan dylan 13 Jun 20 15:31 \u001b[0m\u001b[38;5;203mREADME\u001b[0m\n",
      "drwxr-xr-x 2 dylan dylan 50 Jun 20 15:31 \u001b[07mstuff\u001b[0m\n",
      "\n",
      "./stuff:\n",
      "total 8\n",
      "-rw-r--r-- 1 dylan dylan 13 Jun 20 15:31 \u001b[38;5;161mhello.txt\u001b[0m\n",
      "-rw-r--r-- 1 dylan dylan 32 Jun 20 15:31 \u001b[38;5;161mother.txt\u001b[0m\n"
     ]
    }
   ],
   "source": [
    "git checkout-index -a\n",
    "ls -lR"
   ]
  },
  {
   "cell_type": "code",
   "execution_count": 22,
   "metadata": {
    "slideshow": {
     "slide_type": "subslide"
    }
   },
   "outputs": [
    {
     "name": "stdout",
     "output_type": "stream",
     "text": [
      "git-diff (1)         - Show changes between commits, commit and working tree, etc\n",
      " \u001b[1mdiff --git a/README b/README\u001b[m\u001b[m\n",
      " \u001b[1mindex 980a0d5..f25e220 100644\u001b[m\u001b[m\n",
      " \u001b[1m--- a/README\u001b[m\u001b[m\n",
      " \u001b[1m+++ b/README\u001b[m\u001b[m\n",
      " \u001b[36m@@ -1 +1 @@\u001b[m\u001b[m\n",
      " \u001b[31m-Hello World!\u001b[m\u001b[m\n",
      " \u001b[32m+\u001b[m\u001b[32mNew and improved.\u001b[m\u001b[m\n",
      "\u001b[K\u001b[?1l\u001b>"
     ]
    }
   ],
   "source": [
    "echo 'New and improved.' > README\n",
    "git diff"
   ]
  },
  {
   "cell_type": "code",
   "execution_count": 23,
   "metadata": {
    "slideshow": {
     "slide_type": "fragment"
    }
   },
   "outputs": [
    {
     "name": "stdout",
     "output_type": "stream",
     "text": [
      "git-add (1)          - Add file contents to the index\n"
     ]
    }
   ],
   "source": [
    "git add README"
   ]
  },
  {
   "cell_type": "code",
   "execution_count": 24,
   "metadata": {
    "slideshow": {
     "slide_type": "fragment"
    }
   },
   "outputs": [
    {
     "name": "stdout",
     "output_type": "stream",
     "text": [
      "git-write-tree (1)   - Create a tree object from the current index\n",
      "674e727fabfeb840b5c4e36f2c33610dfb50458e\n",
      "674e727fabfeb840b5c4e36f2c33610dfb50458e\n"
     ]
    }
   ],
   "source": [
    "git write-tree\n",
    "echo $tree2a"
   ]
  },
  {
   "cell_type": "code",
   "execution_count": 25,
   "metadata": {
    "slideshow": {
     "slide_type": "subslide"
    }
   },
   "outputs": [
    {
     "name": "stdout",
     "output_type": "stream",
     "text": [
      "git-rm (1)           - Remove files from the working tree and from the index\n",
      "rm 'stuff/other.txt'\n",
      "README\n",
      "stuff/hello.txt\n"
     ]
    }
   ],
   "source": [
    "git rm -f stuff/other.txt\n",
    "git ls-files"
   ]
  },
  {
   "cell_type": "code",
   "execution_count": 26,
   "metadata": {
    "scrolled": true
   },
   "outputs": [
    {
     "name": "stdout",
     "output_type": "stream",
     "text": [
      "git-mv (1)           - Move or rename a file, a directory, or a symlink\n",
      "\u001b[0m\u001b[00mREADME.md\u001b[0m  \u001b[07mstuff\u001b[0m\n"
     ]
    }
   ],
   "source": [
    "git mv README README.md\n",
    "ls"
   ]
  },
  {
   "cell_type": "markdown",
   "metadata": {},
   "source": [
    "`git add`, `mv`, `rm` also work on entire directories"
   ]
  },
  {
   "cell_type": "markdown",
   "metadata": {
    "collapsed": true,
    "slideshow": {
     "slide_type": "slide"
    }
   },
   "source": [
    "## Versioning: commit (revision)\n",
    "A *commit* is a tree and some metadata"
   ]
  },
  {
   "cell_type": "code",
   "execution_count": null,
   "metadata": {
    "collapsed": true
   },
   "outputs": [],
   "source": []
  },
  {
   "cell_type": "code",
   "execution_count": 27,
   "metadata": {
    "slideshow": {
     "slide_type": "slide"
    }
   },
   "outputs": [
    {
     "name": "stdout",
     "output_type": "stream",
     "text": [
      "GITGLOSSARY(7)                    Git Manual                    GITGLOSSARY(7)\n",
      "\n",
      "\n",
      "\n",
      "NAME\n",
      "       gitglossary - A Git Glossary\n",
      "\n",
      "SYNOPSIS\n",
      "       *\n",
      "\n",
      "DESCRIPTION\n",
      "       alternate object database\n",
      "           Via the alternates mechanism, a repository can inherit part of its\n",
      "           object database from another object database, which is called\n",
      "           \"alternate\".\n",
      "\n",
      "       bare repository\n",
      "           A bare repository is normally an appropriately named directory with\n",
      "           a .git suffix that does not have a locally checked-out copy of any\n",
      "           of the files under revision control. That is, all of the Git\n",
      "           administrative and control files that would normally be present in\n",
      "           the hidden .git sub-directory are directly present in the\n",
      "           repository.git directory instead, and no other files are present\n",
      "           and checked out. Usually publishers of public repositories make\n",
      "           bare repositories available.\n",
      "\n",
      "       blob object\n",
      "           Untyped object, e.g. the contents of a file.\n",
      "\n",
      "       branch\n",
      "           A \"branch\" is an active line of development. The most recent commit\n",
      "           on a branch is referred to as the tip of that branch. The tip of\n",
      "           the branch is referenced by a branch head, which moves forward as\n",
      "           additional development is done on the branch. A single Git\n",
      "           repository can track an arbitrary number of branches, but your\n",
      "           working tree is associated with just one of them (the \"current\" or\n",
      "           \"checked out\" branch), and HEAD points to that branch.\n",
      "\n",
      "       cache\n",
      "           Obsolete for: index.\n",
      "\n",
      "       chain\n",
      "           A list of objects, where each object in the list contains a\n",
      "           reference to its successor (for example, the successor of a commit\n",
      "           could be one of its parents).\n",
      "\n",
      "       changeset\n",
      "           BitKeeper/cvsps speak for \"commit\". Since Git does not store\n",
      "           changes, but states, it really does not make sense to use the term\n",
      "           \"changesets\" with Git.\n",
      "\n",
      "       checkout\n",
      "           The action of updating all or part of the working tree with a tree\n",
      "           object or blob from the object database, and updating the index and\n",
      "           HEAD if the whole working tree has been pointed at a new branch.\n",
      "\n",
      "       cherry-picking\n",
      "           In SCM jargon, \"cherry pick\" means to choose a subset of changes\n",
      "           out of a series of changes (typically commits) and record them as a\n",
      "           new series of changes on top of a different codebase. In Git, this\n",
      "           is performed by the \"git cherry-pick\" command to extract the change\n",
      "           introduced by an existing commit and to record it based on the tip\n",
      "           of the current branch as a new commit.\n",
      "\n",
      "       clean\n",
      "           A working tree is clean, if it corresponds to the revision\n",
      "           referenced by the current head. Also see \"dirty\".\n",
      "\n",
      "       commit\n",
      "           As a noun: A single point in the Git history; the entire history of\n",
      "           a project is represented as a set of interrelated commits. The word\n",
      "           \"commit\" is often used by Git in the same places other revision\n",
      "           control systems use the words \"revision\" or \"version\". Also used as\n",
      "           a short hand for commit object.\n",
      "\n",
      "           As a verb: The action of storing a new snapshot of the project’s\n",
      "           state in the Git history, by creating a new commit representing the\n",
      "           current state of the index and advancing HEAD to point at the new\n",
      "           commit.\n",
      "\n",
      "       commit object\n",
      "           An object which contains the information about a particular\n",
      "           revision, such as parents, committer, author, date and the tree\n",
      "           object which corresponds to the top directory of the stored\n",
      "           revision.\n",
      "\n",
      "       core Git\n",
      "           Fundamental data structures and utilities of Git. Exposes only\n",
      "           limited source code management tools.\n",
      "\n",
      "       DAG\n",
      "           Directed acyclic graph. The commit objects form a directed acyclic\n",
      "           graph, because they have parents (directed), and the graph of\n",
      "           commit objects is acyclic (there is no chain which begins and ends\n",
      "           with the same object).\n",
      "\n",
      "       dangling object\n",
      "           An unreachable object which is not reachable even from other\n",
      "           unreachable objects; a dangling object has no references to it from\n",
      "           any reference or object in the repository.\n",
      "\n",
      "       detached HEAD\n",
      "           Normally the HEAD stores the name of a branch, and commands that\n",
      "           operate on the history HEAD represents operate on the history\n",
      "           leading to the tip of the branch the HEAD points at. However, Git\n",
      "           also allows you to check out an arbitrary commit that isn’t\n",
      "           necessarily the tip of any particular branch. The HEAD in such a\n",
      "           state is called \"detached\".\n",
      "\n",
      "           Note that commands that operate on the history of the current\n",
      "           branch (e.g.  git commit to build a new history on top of it) still\n",
      "           work while the HEAD is detached. They update the HEAD to point at\n",
      "           the tip of the updated history without affecting any branch.\n",
      "           Commands that update or inquire information about the current\n",
      "           branch (e.g.  git branch --set-upstream-to that sets what remote\n",
      "           tracking branch the current branch integrates with) obviously do\n",
      "           not work, as there is no (real) current branch to ask about in this\n",
      "           state.\n",
      "\n",
      "       directory\n",
      "           The list you get with \"ls\" :-)\n",
      "\n",
      "       dirty\n",
      "           A working tree is said to be \"dirty\" if it contains modifications\n",
      "           which have not been committed to the current branch.\n",
      "\n",
      "       evil merge\n",
      "           An evil merge is a merge that introduces changes that do not appear\n",
      "           in any parent.\n",
      "\n",
      "       fast-forward\n",
      "           A fast-forward is a special type of merge where you have a revision\n",
      "           and you are \"merging\" another branch's changes that happen to be a\n",
      "           descendant of what you have. In such these cases, you do not make a\n",
      "           new mergecommit but instead just update to his revision. This will\n",
      "           happen frequently on a remote-tracking branch of a remote\n",
      "           repository.\n",
      "\n",
      "       fetch\n",
      "           Fetching a branch means to get the branch’s head ref from a remote\n",
      "           repository, to find out which objects are missing from the local\n",
      "           object database, and to get them, too. See also git-fetch(1).\n",
      "\n",
      "       file system\n",
      "           Linus Torvalds originally designed Git to be a user space file\n",
      "           system, i.e. the infrastructure to hold files and directories. That\n",
      "           ensured the efficiency and speed of Git.\n",
      "\n",
      "       Git archive\n",
      "           Synonym for repository (for arch people).\n",
      "\n",
      "       gitfile\n",
      "           A plain file .git at the root of a working tree that points at the\n",
      "           directory that is the real repository.\n",
      "\n",
      "       grafts\n",
      "           Grafts enables two otherwise different lines of development to be\n",
      "           joined together by recording fake ancestry information for commits.\n",
      "           This way you can make Git pretend the set of parents a commit has\n",
      "           is different from what was recorded when the commit was created.\n",
      "           Configured via the .git/info/grafts file.\n",
      "\n",
      "       hash\n",
      "           In Git’s context, synonym for object name.\n",
      "\n",
      "       head\n",
      "           A named reference to the commit at the tip of a branch. Heads are\n",
      "           stored in a file in $GIT_DIR/refs/heads/ directory, except when\n",
      "           using packed refs. (See git-pack-refs(1).)\n",
      "\n",
      "       HEAD\n",
      "           The current branch. In more detail: Your working tree is normally\n",
      "           derived from the state of the tree referred to by HEAD. HEAD is a\n",
      "           reference to one of the heads in your repository, except when using\n",
      "           a detached HEAD, in which case it directly references an arbitrary\n",
      "           commit.\n",
      "\n",
      "       head ref\n",
      "           A synonym for head.\n",
      "\n",
      "       hook\n",
      "           During the normal execution of several Git commands, call-outs are\n",
      "           made to optional scripts that allow a developer to add\n",
      "           functionality or checking. Typically, the hooks allow for a command\n"
     ]
    },
    {
     "name": "stdout",
     "output_type": "stream",
     "text": [
      "           to be pre-verified and potentially aborted, and allow for a\n",
      "           post-notification after the operation is done. The hook scripts are\n",
      "           found in the $GIT_DIR/hooks/ directory, and are enabled by simply\n",
      "           removing the .sample suffix from the filename. In earlier versions\n",
      "           of Git you had to make them executable.\n",
      "\n",
      "       index\n",
      "           A collection of files with stat information, whose contents are\n",
      "           stored as objects. The index is a stored version of your working\n",
      "           tree. Truth be told, it can also contain a second, and even a third\n",
      "           version of a working tree, which are used when merging.\n",
      "\n",
      "       index entry\n",
      "           The information regarding a particular file, stored in the index.\n",
      "           An index entry can be unmerged, if a merge was started, but not yet\n",
      "           finished (i.e. if the index contains multiple versions of that\n",
      "           file).\n",
      "\n",
      "       master\n",
      "           The default development branch. Whenever you create a Git\n",
      "           repository, a branch named \"master\" is created, and becomes the\n",
      "           active branch. In most cases, this contains the local development,\n",
      "           though that is purely by convention and is not required.\n",
      "\n",
      "       merge\n",
      "           As a verb: To bring the contents of another branch (possibly from\n",
      "           an external repository) into the current branch. In the case where\n",
      "           the merged-in branch is from a different repository, this is done\n",
      "           by first fetching the remote branch and then merging the result\n",
      "           into the current branch. This combination of fetch and merge\n",
      "           operations is called a pull. Merging is performed by an automatic\n",
      "           process that identifies changes made since the branches diverged,\n",
      "           and then applies all those changes together. In cases where changes\n",
      "           conflict, manual intervention may be required to complete the\n",
      "           merge.\n",
      "\n",
      "           As a noun: unless it is a fast-forward, a successful merge results\n",
      "           in the creation of a new commit representing the result of the\n",
      "           merge, and having as parents the tips of the merged branches. This\n",
      "           commit is referred to as a \"merge commit\", or sometimes just a\n",
      "           \"merge\".\n",
      "\n",
      "       object\n",
      "           The unit of storage in Git. It is uniquely identified by the SHA-1\n",
      "           of its contents. Consequently, an object can not be changed.\n",
      "\n",
      "       object database\n",
      "           Stores a set of \"objects\", and an individual object is identified\n",
      "           by its object name. The objects usually live in $GIT_DIR/objects/.\n",
      "\n",
      "       object identifier\n",
      "           Synonym for object name.\n",
      "\n",
      "       object name\n",
      "           The unique identifier of an object. The object name is usually\n",
      "           represented by a 40 character hexadecimal string. Also colloquially\n",
      "           called SHA-1.\n",
      "\n",
      "       object type\n",
      "           One of the identifiers \"commit\", \"tree\", \"tag\" or \"blob\" describing\n",
      "           the type of an object.\n",
      "\n",
      "       octopus\n",
      "           To merge more than two branches.\n",
      "\n",
      "       origin\n",
      "           The default upstream repository. Most projects have at least one\n",
      "           upstream project which they track. By default origin is used for\n",
      "           that purpose. New upstream updates will be fetched into remote\n",
      "           remote-tracking branches named origin/name-of-upstream-branch,\n",
      "           which you can see using git branch -r.\n",
      "\n",
      "       pack\n",
      "           A set of objects which have been compressed into one file (to save\n",
      "           space or to transmit them efficiently).\n",
      "\n",
      "       pack index\n",
      "           The list of identifiers, and other information, of the objects in a\n",
      "           pack, to assist in efficiently accessing the contents of a pack.\n",
      "\n",
      "       pathspec\n",
      "           Pattern used to limit paths in Git commands.\n",
      "\n",
      "           Pathspecs are used on the command line of \"git ls-files\", \"git\n",
      "           ls-tree\", \"git add\", \"git grep\", \"git diff\", \"git checkout\", and\n",
      "           many other commands to limit the scope of operations to some subset\n",
      "           of the tree or worktree. See the documentation of each command for\n",
      "           whether paths are relative to the current directory or toplevel.\n",
      "           The pathspec syntax is as follows:\n",
      "\n",
      "           ·   any path matches itself\n",
      "\n",
      "           ·   the pathspec up to the last slash represents a directory\n",
      "               prefix. The scope of that pathspec is limited to that subtree.\n",
      "\n",
      "           ·   the rest of the pathspec is a pattern for the remainder of the\n",
      "               pathname. Paths relative to the directory prefix will be\n",
      "               matched against that pattern using fnmatch(3); in particular, *\n",
      "               and ?can match directory separators.\n",
      "\n",
      "           For example, Documentation/*.jpg will match all .jpg files in the\n",
      "           Documentation subtree, including\n",
      "           Documentation/chapter_1/figure_1.jpg.\n",
      "\n",
      "           A pathspec that begins with a colon : has special meaning. In the\n",
      "           short form, the leading colon : is followed by zero or more \"magic\n",
      "           signature\" letters (which optionally is terminated by another colon\n",
      "           :), and the remainder is the pattern to match against the path. The\n",
      "           optional colon that terminates the \"magic signature\" can be omitted\n",
      "           if the pattern begins with a character that cannot be a \"magic\n",
      "           signature\" and is not a colon.\n",
      "\n",
      "           In the long form, the leading colon : is followed by a open\n",
      "           parenthesis (, a comma-separated list of zero or more \"magic\n",
      "           words\", and a close parentheses ), and the remainder is the pattern\n",
      "           to match against the path.\n",
      "\n",
      "           The \"magic signature\" consists of an ASCII symbol that is not\n",
      "           alphanumeric. Currently only the slash / is recognized as a \"magic\n",
      "           signature\": it makes the pattern match from the root of the working\n",
      "           tree, even when you are running the command from inside a\n",
      "           subdirectory.\n",
      "\n",
      "           A pathspec with only a colon means \"there is no pathspec\". This\n",
      "           form should not be combined with other pathspec.\n",
      "\n",
      "       parent\n",
      "           A commit object contains a (possibly empty) list of the logical\n",
      "           predecessor(s) in the line of development, i.e. its parents.\n",
      "\n",
      "       pickaxe\n",
      "           The term pickaxe refers to an option to the diffcore routines that\n",
      "           help select changes that add or delete a given text string. With\n",
      "           the --pickaxe-all option, it can be used to view the full changeset\n",
      "           that introduced or removed, say, a particular line of text. See\n",
      "           git-diff(1).\n",
      "\n",
      "       plumbing\n",
      "           Cute name for core Git.\n",
      "\n",
      "       porcelain\n",
      "           Cute name for programs and program suites depending on core Git,\n",
      "           presenting a high level access to core Git. Porcelains expose more\n",
      "           of a SCM interface than the plumbing.\n",
      "\n",
      "       pull\n",
      "           Pulling a branch means to fetch it and merge it. See also git-\n",
      "           pull(1).\n",
      "\n",
      "       push\n",
      "           Pushing a branch means to get the branch’s head ref from a remote\n",
      "           repository, find out if it is a direct ancestor to the branch’s\n",
      "           local head ref, and in that case, putting all objects, which are\n",
      "           reachable from the local head ref, and which are missing from the\n",
      "           remote repository, into the remote object database, and updating\n",
      "           the remote head ref. If the remote head is not an ancestor to the\n",
      "           local head, the push fails.\n",
      "\n",
      "       reachable\n",
      "           All of the ancestors of a given commit are said to be \"reachable\"\n",
      "           from that commit. More generally, one object is reachable from\n",
      "           another if we can reach the one from the other by a chain that\n",
      "           follows tags to whatever they tag, commits to their parents or\n",
      "           trees, and trees to the trees or blobs that they contain.\n",
      "\n",
      "       rebase\n",
      "           To reapply a series of changes from a branch to a different base,\n",
      "           and reset the head of that branch to the result.\n",
      "\n",
      "       ref\n",
      "           A 40-byte hex representation of a SHA-1 or a name that denotes a\n",
      "           particular object. They may be stored in a file under\n"
     ]
    },
    {
     "name": "stdout",
     "output_type": "stream",
     "text": [
      "           $GIT_DIR/refs/ directory, or in the $GIT_DIR/packed-refs file.\n",
      "\n",
      "       reflog\n",
      "           A reflog shows the local \"history\" of a ref. In other words, it can\n",
      "           tell you what the 3rd last revision in this repository was, and\n",
      "           what was the current state in this repository, yesterday 9:14pm.\n",
      "           See git-reflog(1) for details.\n",
      "\n",
      "       refspec\n",
      "           A \"refspec\" is used by fetch and push to describe the mapping\n",
      "           between remote ref and local ref.\n",
      "\n",
      "       remote-tracking branch\n",
      "           A regular Git branch that is used to follow changes from another\n",
      "           repository. A remote-tracking branch should not contain direct\n",
      "           modifications or have local commits made to it. A remote-tracking\n",
      "           branch can usually be identified as the right-hand-side ref in a\n",
      "           Pull: refspec.\n",
      "\n",
      "       repository\n",
      "           A collection of refs together with an object database containing\n",
      "           all objects which are reachable from the refs, possibly accompanied\n",
      "           by meta data from one or more porcelains. A repository can share an\n",
      "           object database with other repositories via alternates mechanism.\n",
      "\n",
      "       resolve\n",
      "           The action of fixing up manually what a failed automatic merge left\n",
      "           behind.\n",
      "\n",
      "       revision\n",
      "           Synonym for commit (the noun).\n",
      "\n",
      "       rewind\n",
      "           To throw away part of the development, i.e. to assign the head to\n",
      "           an earlier revision.\n",
      "\n",
      "       SCM\n",
      "           Source code management (tool).\n",
      "\n",
      "       SHA-1\n",
      "           \"Secure Hash Algorithm 1\"; a cryptographic hash function. In the\n",
      "           context of Git used as a synonym for object name.\n",
      "\n",
      "       shallow repository\n",
      "           A shallow repository has an incomplete history some of whose\n",
      "           commits have parents cauterized away (in other words, Git is told\n",
      "           to pretend that these commits do not have the parents, even though\n",
      "           they are recorded in the commit object). This is sometimes useful\n",
      "           when you are interested only in the recent history of a project\n",
      "           even though the real history recorded in the upstream is much\n",
      "           larger. A shallow repository is created by giving the --depth\n",
      "           option to git-clone(1), and its history can be later deepened with\n",
      "           git-fetch(1).\n",
      "\n",
      "       symref\n",
      "           Symbolic reference: instead of containing the SHA-1 id itself, it\n",
      "           is of the format ref: refs/some/thing and when referenced, it\n",
      "           recursively dereferences to this reference.  HEAD is a prime\n",
      "           example of a symref. Symbolic references are manipulated with the\n",
      "           git-symbolic-ref(1) command.\n",
      "\n",
      "       tag\n",
      "           A ref under refs/tags/ namespace that points to an object of an\n",
      "           arbitrary type (typically a tag points to either a tag or a commit\n",
      "           object). In contrast to a head, a tag is not updated by the commit\n",
      "           command. A Git tag has nothing to do with a Lisp tag (which would\n",
      "           be called an object type in Git’s context). A tag is most typically\n",
      "           used to mark a particular point in the commit ancestry chain.\n",
      "\n",
      "       tag object\n",
      "           An object containing a ref pointing to another object, which can\n",
      "           contain a message just like a commit object. It can also contain a\n",
      "           (PGP) signature, in which case it is called a \"signed tag object\".\n",
      "\n",
      "       topic branch\n",
      "           A regular Git branch that is used by a developer to identify a\n",
      "           conceptual line of development. Since branches are very easy and\n",
      "           inexpensive, it is often desirable to have several small branches\n",
      "           that each contain very well defined concepts or small incremental\n",
      "           yet related changes.\n",
      "\n",
      "       tree\n",
      "           Either a working tree, or a tree object together with the dependent\n",
      "           blob and tree objects (i.e. a stored representation of a working\n",
      "           tree).\n",
      "\n",
      "       tree object\n",
      "           An object containing a list of file names and modes along with refs\n",
      "           to the associated blob and/or tree objects. A tree is equivalent to\n",
      "           a directory.\n",
      "\n",
      "       tree-ish\n",
      "           A ref pointing to either a commit object, a tree object, or a tag\n",
      "           object pointing to a tag or commit or tree object.\n",
      "\n",
      "       unmerged index\n",
      "           An index which contains unmerged index entries.\n",
      "\n",
      "       unreachable object\n",
      "           An object which is not reachable from a branch, tag, or any other\n",
      "           reference.\n",
      "\n",
      "       upstream branch\n",
      "           The default branch that is merged into the branch in question (or\n",
      "           the branch in question is rebased onto). It is configured via\n",
      "           branch.<name>.remote and branch.<name>.merge. If the upstream\n",
      "           branch of A is origin/B sometimes we say \"A is tracking origin/B\".\n",
      "\n",
      "       working tree\n",
      "           The tree of actual checked out files. The working tree normally\n",
      "           contains the contents of the HEAD commit’s tree, plus any local\n",
      "           changes that you have made but not yet committed.\n",
      "\n",
      "SEE ALSO\n",
      "       gittutorial(7), gittutorial-2(7), gitcvs-migration(7), Everyday Git[1],\n",
      "       The Git User’s Manual[2]\n",
      "\n",
      "GIT\n",
      "       Part of the git(1) suite.\n",
      "\n",
      "NOTES\n",
      "        1. Everyday Git\n",
      "           file:///usr/share/doc/git-1.8.3.1/everyday.html\n",
      "\n",
      "        2. The Git User’s Manual\n",
      "           file:///usr/share/doc/git-1.8.3.1/user-manual.html\n",
      "\n",
      "\n",
      "\n",
      "Git 1.8.3.1                       03/23/2016                    GITGLOSSARY(7)\n"
     ]
    }
   ],
   "source": [
    "man gitglossary"
   ]
  }
 ],
 "metadata": {
  "celltoolbar": "Slideshow",
  "kernelspec": {
   "display_name": "Bash",
   "language": "bash",
   "name": "bash"
  },
  "language_info": {
   "codemirror_mode": "shell",
   "file_extension": ".sh",
   "mimetype": "text/x-sh",
   "name": "bash"
  }
 },
 "nbformat": 4,
 "nbformat_minor": 2
}
